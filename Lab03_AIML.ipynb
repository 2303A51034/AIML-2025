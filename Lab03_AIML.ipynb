{
  "nbformat": 4,
  "nbformat_minor": 0,
  "metadata": {
    "colab": {
      "provenance": [],
      "authorship_tag": "ABX9TyNPImW59xtZxA93JYNTyzAO",
      "include_colab_link": true
    },
    "kernelspec": {
      "name": "python3",
      "display_name": "Python 3"
    },
    "language_info": {
      "name": "python"
    }
  },
  "cells": [
    {
      "cell_type": "markdown",
      "metadata": {
        "id": "view-in-github",
        "colab_type": "text"
      },
      "source": [
        "<a href=\"https://colab.research.google.com/github/2303A51034/AIML-2025/blob/main/Lab03_AIML.ipynb\" target=\"_parent\"><img src=\"https://colab.research.google.com/assets/colab-badge.svg\" alt=\"Open In Colab\"/></a>"
      ]
    },
    {
      "cell_type": "markdown",
      "source": [
        "## **Implement AI Game Strategy using MiniMax and Alpha-Beta Search Algorithms**"
      ],
      "metadata": {
        "id": "srM5Zrk6XGDl"
      }
    },
    {
      "cell_type": "markdown",
      "source": [
        "##Part-01: List of Tasks to Perform\n",
        "1.Install the Python Libraries for Game Strategy\n",
        "\n",
        "2.Implement a Game Class Constructor with-actions,is_terminal,result\n",
        "\n",
        "3.Implement a TicTocToe Player Game using game class function"
      ],
      "metadata": {
        "id": "k1befC6aXuZ_"
      }
    },
    {
      "cell_type": "code",
      "source": [
        "from collections import namedtuple, Counter, defaultdict\n",
        "import random\n",
        "import math\n",
        "import functools\n",
        "cache = functools.lru_cache(10**6)"
      ],
      "metadata": {
        "id": "2r6cltfxXlWl"
      },
      "execution_count": 5,
      "outputs": []
    },
    {
      "cell_type": "code",
      "source": [
        "class Game:\n",
        " def actions(self, state):\n",
        "    ##Return a collection of the allowable moves from this state.\"\"\"\"\n",
        "    raise NotImplementedError\n",
        "\n",
        "def result(self, state, move):\n",
        "    ##Return the state that results from making a move from a state.\"\"\"\"\n",
        "    raise NotImplementedError\n",
        "\n",
        "def is_terminal(self, state):\n",
        "    \"\"\"Return True if this is a final state for the game.\"\"\"\n",
        "    return not self.actions(state)\n",
        "\n",
        "def utility(self, state, player):\n",
        "    \"\"\"Return the value of this final state to player.\"\"\"\n",
        "    raise NotImplementedError\n"
      ],
      "metadata": {
        "id": "3I_4IzQyZD0u"
      },
      "execution_count": 11,
      "outputs": []
    }
  ]
}